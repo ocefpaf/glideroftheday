{
 "cells": [
  {
   "cell_type": "code",
   "execution_count": null,
   "metadata": {},
   "outputs": [],
   "source": [
    "from datetime import date\n",
    "\n",
    "today = date.today()"
   ]
  },
  {
   "cell_type": "code",
   "execution_count": null,
   "metadata": {},
   "outputs": [],
   "source": [
    "from erddapy import ERDDAP\n",
    "\n",
    "server = \"https://gliders.ioos.us/erddap\"\n",
    "protocol = \"tabledap\"\n",
    "\n",
    "\n",
    "e = ERDDAP(server=server, protocol=protocol)"
   ]
  },
  {
   "cell_type": "code",
   "execution_count": null,
   "metadata": {},
   "outputs": [],
   "source": [
    "import pandas as pd\n",
    "\n",
    "kw = {\n",
    "    \"min_time\": \"now-1days\",\n",
    "}\n",
    "\n",
    "\n",
    "search_url = e.get_search_url(response=\"csv\", **kw)\n",
    "search = pd.read_csv(search_url)\n",
    "gliders = search[\"Dataset ID\"].values.tolist()"
   ]
  },
  {
   "cell_type": "code",
   "execution_count": null,
   "metadata": {},
   "outputs": [],
   "source": [
    "gliders"
   ]
  },
  {
   "cell_type": "code",
   "execution_count": null,
   "metadata": {},
   "outputs": [],
   "source": [
    "from erddapy.core.url import urlopen\n",
    "\n",
    "\n",
    "def request_track(dataset_id):\n",
    "    df = None\n",
    "    protocol = \"tabledap\"\n",
    "    variables = [\"time\", \"longitude\", \"latitude\"]\n",
    "    # we will display only the glider's last teo week to reduce the data.\n",
    "    constraints = {\n",
    "        \"time>=\": \"now-14days\",\n",
    "    }\n",
    "    url = e.get_download_url(\n",
    "        protocol=protocol,\n",
    "        dataset_id=dataset_id,\n",
    "        variables=variables,\n",
    "        constraints=constraints,\n",
    "        response=\"csvp\",\n",
    "        distinct=True,\n",
    "    )\n",
    "    try:\n",
    "        df = pd.read_csv(urlopen(url))\n",
    "        df.name = dataset_id\n",
    "    except requests.exceptions.HTTPError:\n",
    "        print(f\"Failed to fetch glider {dataset_id}.\")\n",
    "        pass\n",
    "    return df\n",
    "\n",
    "\n",
    "def request_info(dataset_id):\n",
    "    info_url = e.get_info_url(dataset_id, response=\"csv\")\n",
    "    df = pd.read_csv(info_url)\n",
    "    sub = df.loc[df[\"Variable Name\"] == \"NC_GLOBAL\"]\n",
    "    return sub.loc[sub[\"Attribute Name\"] == \"institution\"][\"Value\"].squeeze()"
   ]
  },
  {
   "cell_type": "code",
   "execution_count": null,
   "metadata": {},
   "outputs": [],
   "source": [
    "all_datasets = {}\n",
    "\n",
    "\n",
    "for glider in gliders:\n",
    "    df = request_track(glider)\n",
    "    institution = request_info(glider)\n",
    "    all_datasets.update({glider: {\"data\": df, \"institution\": institution}})"
   ]
  },
  {
   "cell_type": "code",
   "execution_count": null,
   "metadata": {
    "code_folding": [],
    "scrolled": false
   },
   "outputs": [],
   "source": [
    "import folium\n",
    "\n",
    "\n",
    "def make_marker(dataset_id, df):\n",
    "    link = f\"{server}/\" f\"{protocol}/\" f\"{dataset_id}.html\"\n",
    "    popup = folium.Popup(\n",
    "        html=f\"\"\"{institution} glider <a href=\"{link}\">{dataset_id}</a\"\"\",\n",
    "    )\n",
    "    last_position = (\n",
    "        df[\"latitude (degrees_north)\"].iloc[-1],\n",
    "        df[\"longitude (degrees_east)\"].iloc[-1],\n",
    "    )\n",
    "\n",
    "    icon = folium.Icon(color=\"orange\", icon=\"glyphicon glyphicon-plane\")\n",
    "    return folium.Marker(location=last_position, popup=popup, icon=icon)\n",
    "\n",
    "\n",
    "tiles = \"https://server.arcgisonline.com/ArcGIS/rest/services/Ocean/World_Ocean_Base/MapServer/tile/{z}/{y}/{x}\"\n",
    "attr = \"Tiles &copy; Esri &mdash; Sources: GEBCO, NOAA, CHS, OSU, UNH, CSUMB, National Geographic, DeLorme, NAVTEQ, and Esri\"\n",
    "\n",
    "m = folium.Map(tiles=tiles, attr=attr, png_enabled=True, zoom_control=False)\n",
    "\n",
    "for glider, dataset in all_datasets.items():\n",
    "    make_marker(glider, dataset[\"data\"]).add_to(m)\n",
    "\n",
    "m.fit_bounds(m.get_bounds())\n",
    "\n",
    "m"
   ]
  },
  {
   "cell_type": "code",
   "execution_count": null,
   "metadata": {},
   "outputs": [],
   "source": [
    "import pathlib\n",
    "\n",
    "pathlib.Path(\"images/\").mkdir(parents=True, exist_ok=True)\n",
    "\n",
    "\n",
    "with open(f\"images/{today:%Y-%m-%d}-map.png\", \"wb\") as f:\n",
    "    f.write(m._to_png(delay=3))"
   ]
  },
  {
   "cell_type": "code",
   "execution_count": null,
   "metadata": {
    "code_folding": []
   },
   "outputs": [],
   "source": [
    "from urllib.parse import quote_plus\n",
    "\n",
    "from erddapy.erddapy import parse_dates\n",
    "\n",
    "\n",
    "def glider_track_png(dataset_id, df):\n",
    "    min_time = df[\"time (UTC)\"].iloc[0]\n",
    "    max_time = df[\"time (UTC)\"].iloc[-1]\n",
    "\n",
    "    variable = \"salinity,temperature\"\n",
    "    graph = (\n",
    "        f\"{variable}\"\n",
    "        f\"&time>={min_time}\"\n",
    "        f\"&time<={max_time}\"\n",
    "        f\"&distinct()\"\n",
    "        f\"&.draw=markers&.marker=5|5&.color=0x000000&.colorBar=|||||&.bgColor=0xffccccff\"\n",
    "    )\n",
    "    img = f\"{server}/{protocol}/{dataset_id}.smallPng?{quote_plus(graph)}\"\n",
    "    return f'<img src=\"{img}\" alt=\"glider\">'"
   ]
  },
  {
   "cell_type": "code",
   "execution_count": null,
   "metadata": {},
   "outputs": [],
   "source": [
    "def plot_track(df, popup, color=\"orange\"):\n",
    "    locations = list(\n",
    "        zip(\n",
    "            df[\"latitude (degrees_north)\"].tolist(),\n",
    "            df[\"longitude (degrees_east)\"].tolist(),\n",
    "            strict=True,\n",
    "        )\n",
    "    )\n",
    "\n",
    "    folium.PolyLine(\n",
    "        locations=locations,\n",
    "        color=color,\n",
    "        weight=8,\n",
    "        opacity=0.75,\n",
    "        tooltip=df.name,\n",
    "        popup=popup,\n",
    "    ).add_to(m)\n",
    "\n",
    "    kw = {\"fill\": True, \"radius\": 7, \"stroke\": False}\n",
    "    folium.CircleMarker(\n",
    "        locations[0], color=\"green\", tooltip=df[\"time (UTC)\"].iloc[0], **kw\n",
    "    ).add_to(m)\n",
    "    folium.CircleMarker(\n",
    "        locations[-1], color=\"red\", tooltip=df[\"time (UTC)\"].iloc[-1], **kw\n",
    "    ).add_to(m)"
   ]
  },
  {
   "cell_type": "code",
   "execution_count": null,
   "metadata": {
    "code_folding": []
   },
   "outputs": [],
   "source": [
    "from folium.plugins import Fullscreen\n",
    "\n",
    "m = folium.Map(tiles=tiles, attr=attr)\n",
    "Fullscreen().add_to(m)\n",
    "\n",
    "for glider, dataset in all_datasets.items():\n",
    "    df = dataset[\"data\"]\n",
    "    df.dropna(inplace=True)\n",
    "    popup = glider_track_png(glider, df)\n",
    "    plot_track(df, popup)\n",
    "\n",
    "\n",
    "m.fit_bounds(m.get_bounds())\n",
    "m"
   ]
  },
  {
   "cell_type": "code",
   "execution_count": null,
   "metadata": {},
   "outputs": [],
   "source": [
    "pathlib.Path(\"html/\").mkdir(parents=True, exist_ok=True)\n",
    "\n",
    "name = f\"html/{today:%Y-%m-%d}-index.html\"\n",
    "\n",
    "m.save(name)"
   ]
  }
 ],
 "metadata": {
  "kernelspec": {
   "display_name": "Python 3 (ipykernel)",
   "language": "python",
   "name": "python3"
  },
  "language_info": {
   "codemirror_mode": {
    "name": "ipython",
    "version": 3
   },
   "file_extension": ".py",
   "mimetype": "text/x-python",
   "name": "python",
   "nbconvert_exporter": "python",
   "pygments_lexer": "ipython3",
   "version": "3.11.3"
  }
 },
 "nbformat": 4,
 "nbformat_minor": 4
}
