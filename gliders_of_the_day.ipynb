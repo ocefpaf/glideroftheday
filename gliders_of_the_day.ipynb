{
 "cells": [
  {
   "cell_type": "code",
   "execution_count": null,
   "metadata": {},
   "outputs": [],
   "source": [
    "from datetime import date\n",
    "\n",
    "today = date.today()"
   ]
  },
  {
   "cell_type": "code",
   "execution_count": null,
   "metadata": {},
   "outputs": [],
   "source": [
    "from erddapy import ERDDAP\n",
    "\n",
    "\n",
    "server = \"https://gliders.ioos.us/erddap\"\n",
    "protocol = \"tabledap\"\n",
    "\n",
    "\n",
    "e = ERDDAP(server=server, protocol=protocol)"
   ]
  },
  {
   "cell_type": "code",
   "execution_count": null,
   "metadata": {},
   "outputs": [],
   "source": [
    "import requests\n",
    "\n",
    "\n",
    "from urllib.parse import quote\n",
    "from erddapy.url_handling import urlopen\n",
    "import pandas as pd\n",
    "\n",
    "\n",
    "url_dset = (\n",
    "    f\"{e.server}\"\n",
    "    \"/tabledap/allDatasets.csv?\"\n",
    "    \"datasetID,minLongitude,minLatitude,minTime,maxTime,institution\"\n",
    "    f\"&maxTime>=now-1days\"\n",
    ")\n",
    "\n",
    "url_dataset = quote(url_dset, safe=\":/?&= \")\n",
    "\n",
    "df = pd.read_csv(urlopen(url_dataset), skiprows=[1])\n",
    "\n",
    "cols = [\"minTime\", \"maxTime\"]\n",
    "df[cols] = df[cols].apply(pd.to_datetime)"
   ]
  },
  {
   "cell_type": "code",
   "execution_count": null,
   "metadata": {},
   "outputs": [],
   "source": [
    "import folium\n",
    "\n",
    "\n",
    "def make_marker(df):\n",
    "    link = (\n",
    "        f\"{server}/\"\n",
    "        f\"{protocol}/\"\n",
    "        f\"{df['datasetID']}.html\"\n",
    "    )\n",
    "    popup = folium.Popup(\n",
    "        html=f\"\"\"{df['institution']} glider <a href=\"{link}\">{df['datasetID']}</a\"\"\",\n",
    "    )\n",
    "    location = [df[\"minLatitude\"], df[\"minLongitude\"]]\n",
    "    \n",
    "    icon = folium.Icon(color=\"orange\", icon=\"glyphicon glyphicon-plane\")\n",
    "    return folium.Marker(location=location, popup=popup, icon=icon)\n",
    "\n",
    "\n",
    "tiles = \"https://server.arcgisonline.com/ArcGIS/rest/services/Ocean_Basemap/MapServer/tile/{z}/{y}/{x}\"\n",
    "attr = \"Tiles &copy; Esri &mdash; Sources: GEBCO, NOAA, CHS, OSU, UNH, CSUMB, National Geographic, DeLorme, NAVTEQ, and Esri\"\n",
    "\n",
    "m = folium.Map(tiles=tiles, attr=attr, png_enabled=True, zoom_control=False)\n",
    "\n",
    "for k, row in df.iterrows():\n",
    "    make_marker(row).add_to(m)\n",
    "\n",
    "m.fit_bounds(m.get_bounds())\n",
    "\n",
    "m"
   ]
  },
  {
   "cell_type": "code",
   "execution_count": null,
   "metadata": {},
   "outputs": [],
   "source": [
    "import pathlib\n",
    "\n",
    "\n",
    "pathlib.Path(\"images/\").mkdir(parents=True, exist_ok=True)\n",
    "\n",
    "\n",
    "with open(f\"images/{today:%Y-%m-%d}-map.png\", \"wb\") as f:\n",
    "    f.write(m._to_png(delay=3))"
   ]
  },
  {
   "cell_type": "code",
   "execution_count": null,
   "metadata": {},
   "outputs": [],
   "source": [
    "from urllib.parse import quote_plus\n",
    "from erddapy.erddapy import parse_dates\n",
    "\n",
    "\n",
    "def glider_track_png(df):\n",
    "    dataset_id = df[\"datasetID\"]\n",
    "    min_time = parse_dates(df[\"minTime\"])\n",
    "    max_time = parse_dates(df[\"maxTime\"])\n",
    "\n",
    "    variable = \"salinity,temperature\"\n",
    "    graph = (\n",
    "        f\"{variable}\"\n",
    "        f\"&time>={min_time}\"\n",
    "        f\"&time<={max_time}\"\n",
    "        f\"&distinct()\"\n",
    "        f\"&.draw=markers&.marker=5|5&.color=0x000000&.colorBar=|||||&.bgColor=0xffccccff\"\n",
    "    )\n",
    "    img = f\"{server}/{protocol}/{dataset_id}.smallPng?{quote_plus(graph)}\"\n",
    "    return f'<img src=\"{img}\" alt=\"glider\">'"
   ]
  },
  {
   "cell_type": "code",
   "execution_count": null,
   "metadata": {},
   "outputs": [],
   "source": [
    "from erddapy.url_handling import urlopen\n",
    "from shapely.geometry import LineString\n",
    "\n",
    "\n",
    "def request_track(dataset_id):\n",
    "    df = None\n",
    "    protocol = \"tabledap\"\n",
    "    variables = [\"time\", \"longitude\", \"latitude\"]\n",
    "    # we will display only the glider's last teo week to reduce the data.\n",
    "    constraints = {\n",
    "        \"time>=\": \"now-14days\",\n",
    "    }\n",
    "    url = e.get_download_url(\n",
    "        protocol=protocol,\n",
    "        dataset_id=dataset_id,\n",
    "        variables=variables,\n",
    "        constraints=constraints,\n",
    "        response=\"csvp\",\n",
    "        distinct=True,\n",
    "    )\n",
    "    try:\n",
    "        df = pd.read_csv(urlopen(url))\n",
    "        df.name = dataset_id\n",
    "    except requests.exceptions.HTTPError:\n",
    "        print(f\"Failed to fetch glider {dataset_id}.\")\n",
    "        pass\n",
    "    return df\n",
    "\n",
    "\n",
    "def plot_track(df, popup, color=\"orange\"):\n",
    "    locations = list(zip(df[\"latitude (degrees_north)\"].tolist(), df[\"longitude (degrees_east)\"]))\n",
    "\n",
    "    folium.PolyLine(\n",
    "        locations=locations, color=color, weight=8, opacity=0.75, tooltip=df.name, popup=popup,\n",
    "    ).add_to(m)\n",
    "\n",
    "    kw = {\"fill\": True, \"radius\": 7, \"stroke\": False}\n",
    "    folium.CircleMarker(locations[0], color=\"green\", tooltip=df[\"time (UTC)\"].iloc[0], **kw).add_to(m)\n",
    "    folium.CircleMarker(locations[-1], color=\"red\", tooltip=df[\"time (UTC)\"].iloc[-1], **kw).add_to(m)"
   ]
  },
  {
   "cell_type": "code",
   "execution_count": null,
   "metadata": {
    "code_folding": []
   },
   "outputs": [],
   "source": [
    "from folium.plugins import Fullscreen\n",
    "\n",
    "\n",
    "m = folium.Map(tiles=tiles, attr=attr)\n",
    "Fullscreen().add_to(m)\n",
    "\n",
    "for k, row in df.iterrows():\n",
    "    name = row[\"datasetID\"]\n",
    "    popup = glider_track_png(row)\n",
    "    track = request_track(name)\n",
    "    if track is not None:\n",
    "        plot_track(track, popup)\n",
    "\n",
    "\n",
    "m.fit_bounds(m.get_bounds())\n",
    "m"
   ]
  },
  {
   "cell_type": "code",
   "execution_count": null,
   "metadata": {},
   "outputs": [],
   "source": [
    "pathlib.Path(\"html/\").mkdir(parents=True, exist_ok=True)\n",
    "\n",
    "name = f\"html/{today:%Y-%m-%d}-index.html\"\n",
    "\n",
    "m.save(name)"
   ]
  },
  {
   "cell_type": "code",
   "execution_count": null,
   "metadata": {},
   "outputs": [],
   "source": [
    "import os\n",
    "import tweepy\n",
    "\n",
    "\n",
    "def twitter_authentication():\n",
    "    auth = tweepy.OAuthHandler(os.environ[\"CONSUMER_KEY\"], os.environ[\"CONSUMER_KEY_SECRET\"])\n",
    "    auth.set_access_token(os.environ[\"ACCESS_TOKEN\"], os.environ[\"ACCESS_TOKEN_SECRET\"])\n",
    "    return tweepy.API(auth)\n",
    "\n",
    "\n",
    "html_map_url = f\"https://github.ocefpaf.io/glideroftheday/{today:%Y-%m-%d}-index.html\"\n",
    "png_map_file = f\"images/{today:%Y-%m-%d}-map.png\"\n",
    "tweet = f\"\"\"These are the gliders deployed in the last 24 hours.\n",
    "Follow the link {html_map_url} for more information.\"\"\"\n",
    "\n",
    "api = twitter_authentication()\n",
    "\n",
    "media = api.media_upload(png_map_file)\n",
    "post_result = api.update_status(status=tweet, media_ids=[media.media_id])"
   ]
  }
 ],
 "metadata": {
  "kernelspec": {
   "display_name": "Python 3 (ipykernel)",
   "language": "python",
   "name": "python3"
  },
  "language_info": {
   "codemirror_mode": {
    "name": "ipython",
    "version": 3
   },
   "file_extension": ".py",
   "mimetype": "text/x-python",
   "name": "python",
   "nbconvert_exporter": "python",
   "pygments_lexer": "ipython3",
   "version": "3.10.1"
  }
 },
 "nbformat": 4,
 "nbformat_minor": 4
}
