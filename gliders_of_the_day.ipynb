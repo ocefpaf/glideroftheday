{
 "cells": [
  {
   "cell_type": "code",
   "execution_count": 1,
   "metadata": {},
   "outputs": [],
   "source": [
    "from datetime import date\n",
    "\n",
    "\n",
    "today = date.today()"
   ]
  },
  {
   "cell_type": "code",
   "execution_count": 2,
   "metadata": {},
   "outputs": [],
   "source": [
    "from erddapy import ERDDAP\n",
    "\n",
    "\n",
    "server = \"https://belafonte.ocean.dal.ca/erddap\"\n",
    "protocol = \"tabledap\"\n",
    "\n",
    "\n",
    "e = ERDDAP(server=server, protocol=protocol)"
   ]
  },
  {
   "cell_type": "code",
   "execution_count": 3,
   "metadata": {
    "scrolled": false
   },
   "outputs": [
    {
     "name": "stdout",
     "output_type": "stream",
     "text": [
      "https://belafonte.ocean.dal.ca/erddap/search/advanced.csv?page=1&itemsPerPage=1000&protocol=tabledap&cdm_data_type=trajectoryprofile&institution=(ANY)&ioos_category=(ANY)&keywords=(ANY)&long_name=(ANY)&standard_name=(ANY)&variableName=(ANY)&minLon=(ANY)&maxLon=(ANY)&minLat=(ANY)&maxLat=(ANY)&minTime=now-1days&maxTime=\n"
     ]
    }
   ],
   "source": [
    "import pandas as pd\n",
    "\n",
    "\n",
    "kw = {\n",
    "    \"min_time\": \"now-1days\",\n",
    "    \"cdm_data_type\": \"trajectoryprofile\",\n",
    "}\n",
    "\n",
    "\n",
    "search_url = e.get_search_url(response=\"csv\", **kw)\n",
    "print(search_url)\n",
    "search = pd.read_csv(search_url)\n",
    "gliders = search[\"Dataset ID\"].values.tolist()"
   ]
  },
  {
   "cell_type": "code",
   "execution_count": 4,
   "metadata": {},
   "outputs": [],
   "source": [
    "gliders = [glider for glider in gliders if not (glider.endswith(\"_delayed\") or glider.endswith(\"_test\"))]"
   ]
  },
  {
   "cell_type": "code",
   "execution_count": 5,
   "metadata": {},
   "outputs": [],
   "source": [
    "import requests\n",
    "from erddapy.url_handling import urlopen\n",
    "\n",
    "\n",
    "def request_track(dataset_id):\n",
    "    df = None\n",
    "    protocol = \"tabledap\"\n",
    "    variables = [\"time\", \"longitude\", \"latitude\"]\n",
    "    # we will display only the glider's last teo week to reduce the data.\n",
    "    constraints = {\n",
    "        \"time>=\": \"now-14days\",\n",
    "    }\n",
    "    url = e.get_download_url(\n",
    "        protocol=protocol,\n",
    "        dataset_id=dataset_id,\n",
    "        variables=variables,\n",
    "        constraints=constraints,\n",
    "        response=\"csvp\",\n",
    "        distinct=True,\n",
    "    )\n",
    "    try:\n",
    "        df = pd.read_csv(urlopen(url))\n",
    "        df.name = dataset_id\n",
    "    except requests.exceptions.HTTPError:\n",
    "        print(f\"Failed to fetch glider {dataset_id}.\")\n",
    "        pass\n",
    "    return df\n",
    "\n",
    "\n",
    "def request_info(dataset_id):\n",
    "    info_url = e.get_info_url(dataset_id, response=\"csv\")\n",
    "    df = pd.read_csv(info_url)\n",
    "    sub = df.loc[df[\"Variable Name\"] == \"NC_GLOBAL\"]\n",
    "    return sub.loc[sub[\"Attribute Name\"] == \"institution\"][\"Value\"].squeeze()"
   ]
  },
  {
   "cell_type": "code",
   "execution_count": 6,
   "metadata": {
    "scrolled": true
   },
   "outputs": [
    {
     "name": "stdout",
     "output_type": "stream",
     "text": [
      "Failed to fetch glider bond_test_for_sci_water_depth_realtime.\n",
      "Failed to fetch glider scotia_20190605_100_realtime.\n",
      "Failed to fetch glider Fundy_20190703_101_realtime.\n",
      "Failed to fetch glider bond_20190724_102_realtime.\n",
      "Failed to fetch glider dal556_20190814_103_realtime.\n",
      "Failed to fetch glider bond_20190828_104_realtime.\n",
      "Failed to fetch glider Nemesis_20190902_105_realtime.\n",
      "Failed to fetch glider scotia_20190925_107_realtime.\n",
      "Failed to fetch glider cabot_20200717_114_realtime.\n",
      "Failed to fetch glider Fundy_20200905_116_realtime.\n",
      "Failed to fetch glider otn200_20200920_118_realtime.\n",
      "Failed to fetch glider cabot_20200919_119_realtime.\n",
      "Failed to fetch glider bond_20200925_120_realtime.\n",
      "Failed to fetch glider Fundy_20201015_122_realtime.\n",
      "Failed to fetch glider sambro_20210705_134_realtime.\n",
      "Failed to fetch glider cabot_20210706_135_realtime.\n",
      "Failed to fetch glider scotia_20210719_136_realtime.\n",
      "Failed to fetch glider otn200_20210825_139_realtime.\n",
      "Failed to fetch glider qala1_20211006_143_realtime.\n",
      "Failed to fetch glider qala1_20211019_144_realtime.\n",
      "Failed to fetch glider otn201_20160724_63_realtime.\n",
      "Failed to fetch glider Fundy_20180517_83_realtime.\n",
      "Failed to fetch glider Fundy_20180609_84_realtime.\n",
      "Failed to fetch glider dal556_20180610_85_realtime.\n",
      "Failed to fetch glider scotia_20180720_87_realtime.\n",
      "Failed to fetch glider otn200_20180815_88_realtime.\n",
      "Failed to fetch glider Fundy_20180913_89_realtime.\n",
      "Failed to fetch glider otn200_20180918_90_realtime.\n",
      "Failed to fetch glider dal556_20181023_93_realtime.\n",
      "Failed to fetch glider otn200_20181101_94_realtime.\n",
      "Failed to fetch glider scotia_20181113_95_realtime.\n",
      "Failed to fetch glider Fundy_20190604_99_realtime.\n"
     ]
    }
   ],
   "source": [
    "all_datasets = {}\n",
    "\n",
    "\n",
    "for glider in gliders:\n",
    "    df = request_track(glider)\n",
    "    institution = request_info(glider)\n",
    "    all_datasets.update({glider: {\"data\": df, \"institution\": institution}})"
   ]
  },
  {
   "cell_type": "code",
   "execution_count": 7,
   "metadata": {
    "code_folding": [],
    "scrolled": false
   },
   "outputs": [
    {
     "ename": "TypeError",
     "evalue": "'NoneType' object is not subscriptable",
     "output_type": "error",
     "traceback": [
      "\u001b[0;31m---------------------------------------------------------------------------\u001b[0m",
      "\u001b[0;31mTypeError\u001b[0m                                 Traceback (most recent call last)",
      "Input \u001b[0;32mIn [7]\u001b[0m, in \u001b[0;36m<module>\u001b[0;34m\u001b[0m\n\u001b[1;32m     22\u001b[0m m \u001b[38;5;241m=\u001b[39m folium\u001b[38;5;241m.\u001b[39mMap(tiles\u001b[38;5;241m=\u001b[39mtiles, attr\u001b[38;5;241m=\u001b[39mattr, png_enabled\u001b[38;5;241m=\u001b[39m\u001b[38;5;28;01mTrue\u001b[39;00m, zoom_control\u001b[38;5;241m=\u001b[39m\u001b[38;5;28;01mFalse\u001b[39;00m)\n\u001b[1;32m     24\u001b[0m \u001b[38;5;28;01mfor\u001b[39;00m glider, dataset \u001b[38;5;129;01min\u001b[39;00m all_datasets\u001b[38;5;241m.\u001b[39mitems():\n\u001b[0;32m---> 25\u001b[0m     \u001b[43mmake_marker\u001b[49m\u001b[43m(\u001b[49m\u001b[43mglider\u001b[49m\u001b[43m,\u001b[49m\u001b[43m \u001b[49m\u001b[43mdataset\u001b[49m\u001b[43m[\u001b[49m\u001b[38;5;124;43m\"\u001b[39;49m\u001b[38;5;124;43mdata\u001b[39;49m\u001b[38;5;124;43m\"\u001b[39;49m\u001b[43m]\u001b[49m\u001b[43m)\u001b[49m\u001b[38;5;241m.\u001b[39madd_to(m)\n\u001b[1;32m     27\u001b[0m m\u001b[38;5;241m.\u001b[39mfit_bounds(m\u001b[38;5;241m.\u001b[39mget_bounds())\n\u001b[1;32m     29\u001b[0m m\n",
      "Input \u001b[0;32mIn [7]\u001b[0m, in \u001b[0;36mmake_marker\u001b[0;34m(dataset_id, df)\u001b[0m\n\u001b[1;32m      5\u001b[0m link \u001b[38;5;241m=\u001b[39m (\n\u001b[1;32m      6\u001b[0m     \u001b[38;5;124mf\u001b[39m\u001b[38;5;124m\"\u001b[39m\u001b[38;5;132;01m{\u001b[39;00mserver\u001b[38;5;132;01m}\u001b[39;00m\u001b[38;5;124m/\u001b[39m\u001b[38;5;124m\"\u001b[39m\n\u001b[1;32m      7\u001b[0m     \u001b[38;5;124mf\u001b[39m\u001b[38;5;124m\"\u001b[39m\u001b[38;5;132;01m{\u001b[39;00mprotocol\u001b[38;5;132;01m}\u001b[39;00m\u001b[38;5;124m/\u001b[39m\u001b[38;5;124m\"\u001b[39m\n\u001b[1;32m      8\u001b[0m     \u001b[38;5;124mf\u001b[39m\u001b[38;5;124m\"\u001b[39m\u001b[38;5;132;01m{\u001b[39;00mdataset_id\u001b[38;5;132;01m}\u001b[39;00m\u001b[38;5;124m.html\u001b[39m\u001b[38;5;124m\"\u001b[39m\n\u001b[1;32m      9\u001b[0m )\n\u001b[1;32m     10\u001b[0m popup \u001b[38;5;241m=\u001b[39m folium\u001b[38;5;241m.\u001b[39mPopup(\n\u001b[1;32m     11\u001b[0m     html\u001b[38;5;241m=\u001b[39m\u001b[38;5;124mf\u001b[39m\u001b[38;5;124m\"\"\"\u001b[39m\u001b[38;5;132;01m{\u001b[39;00minstitution\u001b[38;5;132;01m}\u001b[39;00m\u001b[38;5;124m glider <a href=\u001b[39m\u001b[38;5;124m\"\u001b[39m\u001b[38;5;132;01m{\u001b[39;00mlink\u001b[38;5;132;01m}\u001b[39;00m\u001b[38;5;124m\"\u001b[39m\u001b[38;5;124m>\u001b[39m\u001b[38;5;132;01m{\u001b[39;00mdataset_id\u001b[38;5;132;01m}\u001b[39;00m\u001b[38;5;124m</a\u001b[39m\u001b[38;5;124m\"\"\"\u001b[39m,\n\u001b[1;32m     12\u001b[0m )\n\u001b[0;32m---> 13\u001b[0m last_position \u001b[38;5;241m=\u001b[39m \u001b[43mdf\u001b[49m\u001b[43m[\u001b[49m\u001b[38;5;124;43m\"\u001b[39;49m\u001b[38;5;124;43mlatitude (degrees_north)\u001b[39;49m\u001b[38;5;124;43m\"\u001b[39;49m\u001b[43m]\u001b[49m\u001b[38;5;241m.\u001b[39miloc[\u001b[38;5;241m-\u001b[39m\u001b[38;5;241m1\u001b[39m], df[\u001b[38;5;124m\"\u001b[39m\u001b[38;5;124mlongitude (degrees_east)\u001b[39m\u001b[38;5;124m\"\u001b[39m]\u001b[38;5;241m.\u001b[39miloc[\u001b[38;5;241m-\u001b[39m\u001b[38;5;241m1\u001b[39m]\n\u001b[1;32m     15\u001b[0m icon \u001b[38;5;241m=\u001b[39m folium\u001b[38;5;241m.\u001b[39mIcon(color\u001b[38;5;241m=\u001b[39m\u001b[38;5;124m\"\u001b[39m\u001b[38;5;124morange\u001b[39m\u001b[38;5;124m\"\u001b[39m, icon\u001b[38;5;241m=\u001b[39m\u001b[38;5;124m\"\u001b[39m\u001b[38;5;124mglyphicon glyphicon-plane\u001b[39m\u001b[38;5;124m\"\u001b[39m)\n\u001b[1;32m     16\u001b[0m \u001b[38;5;28;01mreturn\u001b[39;00m folium\u001b[38;5;241m.\u001b[39mMarker(location\u001b[38;5;241m=\u001b[39mlast_position, popup\u001b[38;5;241m=\u001b[39mpopup, icon\u001b[38;5;241m=\u001b[39micon)\n",
      "\u001b[0;31mTypeError\u001b[0m: 'NoneType' object is not subscriptable"
     ]
    }
   ],
   "source": [
    "import folium\n",
    "\n",
    "\n",
    "def make_marker(dataset_id, df):\n",
    "    link = (\n",
    "        f\"{server}/\"\n",
    "        f\"{protocol}/\"\n",
    "        f\"{dataset_id}.html\"\n",
    "    )\n",
    "    popup = folium.Popup(\n",
    "        html=f\"\"\"{institution} glider <a href=\"{link}\">{dataset_id}</a\"\"\",\n",
    "    )\n",
    "    last_position = df[\"latitude (degrees_north)\"].iloc[-1], df[\"longitude (degrees_east)\"].iloc[-1]\n",
    "    \n",
    "    icon = folium.Icon(color=\"orange\", icon=\"glyphicon glyphicon-plane\")\n",
    "    return folium.Marker(location=last_position, popup=popup, icon=icon)\n",
    "\n",
    "\n",
    "tiles = \"https://server.arcgisonline.com/ArcGIS/rest/services/Ocean_Basemap/MapServer/tile/{z}/{y}/{x}\"\n",
    "attr = \"Tiles &copy; Esri &mdash; Sources: GEBCO, NOAA, CHS, OSU, UNH, CSUMB, National Geographic, DeLorme, NAVTEQ, and Esri\"\n",
    "\n",
    "m = folium.Map(tiles=tiles, attr=attr, png_enabled=True, zoom_control=False)\n",
    "\n",
    "for glider, dataset in all_datasets.items():\n",
    "    make_marker(glider, dataset[\"data\"]).add_to(m)\n",
    "\n",
    "m.fit_bounds(m.get_bounds())\n",
    "\n",
    "m"
   ]
  },
  {
   "cell_type": "code",
   "execution_count": null,
   "metadata": {},
   "outputs": [],
   "source": [
    "import pathlib\n",
    "\n",
    "\n",
    "pathlib.Path(\"images/\").mkdir(parents=True, exist_ok=True)\n",
    "\n",
    "\n",
    "with open(f\"images/{today:%Y-%m-%d}-map.png\", \"wb\") as f:\n",
    "    f.write(m._to_png(delay=3))"
   ]
  },
  {
   "cell_type": "code",
   "execution_count": null,
   "metadata": {
    "code_folding": []
   },
   "outputs": [],
   "source": [
    "from urllib.parse import quote_plus\n",
    "from erddapy.erddapy import parse_dates\n",
    "\n",
    "\n",
    "def glider_track_png(dataset_id, df):\n",
    "    min_time = df[\"time (UTC)\"].iloc[0]\n",
    "    max_time = df[\"time (UTC)\"].iloc[-1]\n",
    "\n",
    "    variable = \"salinity,temperature\"\n",
    "    graph = (\n",
    "        f\"{variable}\"\n",
    "        f\"&time>={min_time}\"\n",
    "        f\"&time<={max_time}\"\n",
    "        f\"&distinct()\"\n",
    "        f\"&.draw=markers&.marker=5|5&.color=0x000000&.colorBar=|||||&.bgColor=0xffccccff\"\n",
    "    )\n",
    "    img = f\"{server}/{protocol}/{dataset_id}.smallPng?{quote_plus(graph)}\"\n",
    "    return f'<img src=\"{img}\" alt=\"glider\">'"
   ]
  },
  {
   "cell_type": "code",
   "execution_count": null,
   "metadata": {},
   "outputs": [],
   "source": [
    "from shapely.geometry import LineString\n",
    "\n",
    "\n",
    "\n",
    "def plot_track(df, popup, color=\"orange\"):\n",
    "    locations = list(zip(df[\"latitude (degrees_north)\"].tolist(), df[\"longitude (degrees_east)\"]))\n",
    "\n",
    "    folium.PolyLine(\n",
    "        locations=locations, color=color, weight=8, opacity=0.75, tooltip=df.name, popup=popup,\n",
    "    ).add_to(m)\n",
    "\n",
    "    kw = {\"fill\": True, \"radius\": 7, \"stroke\": False}\n",
    "    folium.CircleMarker(locations[0], color=\"green\", tooltip=df[\"time (UTC)\"].iloc[0], **kw).add_to(m)\n",
    "    folium.CircleMarker(locations[-1], color=\"red\", tooltip=df[\"time (UTC)\"].iloc[-1], **kw).add_to(m)"
   ]
  },
  {
   "cell_type": "code",
   "execution_count": null,
   "metadata": {
    "code_folding": []
   },
   "outputs": [],
   "source": [
    "from folium.plugins import Fullscreen\n",
    "\n",
    "\n",
    "m = folium.Map(tiles=tiles, attr=attr)\n",
    "Fullscreen().add_to(m)\n",
    "\n",
    "for glider, dataset in all_datasets.items():\n",
    "    df = dataset[\"data\"]\n",
    "    popup = glider_track_png(glider, df)\n",
    "    plot_track(df, popup)\n",
    "\n",
    "\n",
    "m.fit_bounds(m.get_bounds())\n",
    "m"
   ]
  },
  {
   "cell_type": "code",
   "execution_count": null,
   "metadata": {},
   "outputs": [],
   "source": [
    "pathlib.Path(\"html/\").mkdir(parents=True, exist_ok=True)\n",
    "\n",
    "name = f\"html/{today:%Y-%m-%d}-index.html\"\n",
    "\n",
    "m.save(name)"
   ]
  },
  {
   "cell_type": "code",
   "execution_count": null,
   "metadata": {},
   "outputs": [],
   "source": [
    "institutions = []\n",
    "for value in all_datasets.values():\n",
    "    institutions.append(value[\"institution\"])"
   ]
  },
  {
   "cell_type": "code",
   "execution_count": null,
   "metadata": {},
   "outputs": [],
   "source": [
    "import os\n",
    "import tweepy\n",
    "\n",
    "\n",
    "def twitter_authentication():\n",
    "    auth = tweepy.OAuthHandler(os.environ[\"CONSUMER_KEY\"], os.environ[\"CONSUMER_KEY_SECRET\"])\n",
    "    auth.set_access_token(os.environ[\"ACCESS_TOKEN\"], os.environ[\"ACCESS_TOKEN_SECRET\"])\n",
    "    return tweepy.API(auth)\n",
    "\n",
    "\n",
    "html_map_url = f\"https://ocefpaf.github.io/glideroftheday/{today:%Y-%m-%d}-index.html\"\n",
    "png_map_file = f\"images/{today:%Y-%m-%d}-map.png\"\n",
    "tweet = f\"\"\"There are {len(all_datasets)} gliders from {len(set(institutions))} instituions in the water today.\n",
    "Follow the link {html_map_url} for more information.\"\"\""
   ]
  },
  {
   "cell_type": "code",
   "execution_count": null,
   "metadata": {},
   "outputs": [],
   "source": [
    "print(tweet)"
   ]
  },
  {
   "cell_type": "code",
   "execution_count": null,
   "metadata": {},
   "outputs": [],
   "source": [
    "api = twitter_authentication()\n",
    "\n",
    "media = api.media_upload(png_map_file)\n",
    "post_result = api.update_status(status=tweet, media_ids=[media.media_id])"
   ]
  }
 ],
 "metadata": {
  "kernelspec": {
   "display_name": "Python 3 (ipykernel)",
   "language": "python",
   "name": "python3"
  },
  "language_info": {
   "codemirror_mode": {
    "name": "ipython",
    "version": 3
   },
   "file_extension": ".py",
   "mimetype": "text/x-python",
   "name": "python",
   "nbconvert_exporter": "python",
   "pygments_lexer": "ipython3",
   "version": "3.10.2"
  }
 },
 "nbformat": 4,
 "nbformat_minor": 4
}
